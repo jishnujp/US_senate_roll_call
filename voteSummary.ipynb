{
 "cells": [
  {
   "cell_type": "markdown",
   "metadata": {
    "colab_type": "text",
    "id": "view-in-github"
   },
   "source": [
    "<a href=\"https://colab.research.google.com/github/jishnujp/US_senate_roll_call/blob/main/voteSummary.ipynb\" target=\"_parent\"><img src=\"https://colab.research.google.com/assets/colab-badge.svg\" alt=\"Open In Colab\"/></a>"
   ]
  },
  {
   "cell_type": "markdown",
   "metadata": {
    "id": "C-qxIy4RJCl0"
   },
   "source": [
    "# Vote Summary"
   ]
  },
  {
   "cell_type": "markdown",
   "metadata": {
    "id": "FbSWuok2J-0a"
   },
   "source": [
    "## Roll Call Vote 117th Congress - 1st Session\n",
    "### **Subject**\n",
    "On the Nomination (Confirmation: Tiffany P. Cunningham, of Illinois, to be United States Circuit Judge for the Federal Circuit.)\n",
    "\n",
    "### Votes\n",
    "- YEAs - 63\n",
    "- NAYs - 33\n",
    "- Not Voting - 4\n",
    "\n",
    "link - https://www.senate.gov/legislative/LIS/roll_call_votes/vote1171/vote_117_1_00267.htm\n",
    "\n"
   ]
  },
  {
   "cell_type": "markdown",
   "metadata": {
    "id": "ejpMpNMIKBew"
   },
   "source": [
    "## Scraping"
   ]
  },
  {
   "cell_type": "code",
   "execution_count": 1,
   "metadata": {
    "id": "avAePnVAJF6F"
   },
   "outputs": [
    {
     "data": {
      "text/html": [
       "<div>\n",
       "<style scoped>\n",
       "    .dataframe tbody tr th:only-of-type {\n",
       "        vertical-align: middle;\n",
       "    }\n",
       "\n",
       "    .dataframe tbody tr th {\n",
       "        vertical-align: top;\n",
       "    }\n",
       "\n",
       "    .dataframe thead th {\n",
       "        text-align: right;\n",
       "    }\n",
       "</style>\n",
       "<table border=\"1\" class=\"dataframe\">\n",
       "  <thead>\n",
       "    <tr style=\"text-align: right;\">\n",
       "      <th></th>\n",
       "      <th>first_name</th>\n",
       "      <th>last_name</th>\n",
       "      <th>party</th>\n",
       "      <th>state</th>\n",
       "      <th>vote_cast</th>\n",
       "    </tr>\n",
       "  </thead>\n",
       "  <tbody>\n",
       "    <tr>\n",
       "      <th>0</th>\n",
       "      <td>Tammy</td>\n",
       "      <td>Baldwin</td>\n",
       "      <td>D</td>\n",
       "      <td>WI</td>\n",
       "      <td>Yea</td>\n",
       "    </tr>\n",
       "    <tr>\n",
       "      <th>1</th>\n",
       "      <td>John</td>\n",
       "      <td>Barrasso</td>\n",
       "      <td>R</td>\n",
       "      <td>WY</td>\n",
       "      <td>Nay</td>\n",
       "    </tr>\n",
       "    <tr>\n",
       "      <th>2</th>\n",
       "      <td>Michael</td>\n",
       "      <td>Bennet</td>\n",
       "      <td>D</td>\n",
       "      <td>CO</td>\n",
       "      <td>Yea</td>\n",
       "    </tr>\n",
       "    <tr>\n",
       "      <th>3</th>\n",
       "      <td>Marsha</td>\n",
       "      <td>Blackburn</td>\n",
       "      <td>R</td>\n",
       "      <td>TN</td>\n",
       "      <td>Nay</td>\n",
       "    </tr>\n",
       "    <tr>\n",
       "      <th>4</th>\n",
       "      <td>Richard</td>\n",
       "      <td>Blumenthal</td>\n",
       "      <td>D</td>\n",
       "      <td>CT</td>\n",
       "      <td>Yea</td>\n",
       "    </tr>\n",
       "  </tbody>\n",
       "</table>\n",
       "</div>"
      ],
      "text/plain": [
       "  first_name   last_name party state vote_cast\n",
       "0      Tammy     Baldwin     D    WI       Yea\n",
       "1       John    Barrasso     R    WY       Nay\n",
       "2    Michael      Bennet     D    CO       Yea\n",
       "3     Marsha   Blackburn     R    TN       Nay\n",
       "4    Richard  Blumenthal     D    CT       Yea"
      ]
     },
     "metadata": {},
     "output_type": "display_data"
    }
   ],
   "source": [
    "## We have the xml link, which make scraping easier.\n",
    "import pandas as pd\n",
    "from bs4 import BeautifulSoup\n",
    "from requests import get\n",
    "\n",
    "link = \"https://www.senate.gov/legislative/LIS/roll_call_votes/vote1171/vote_117_1_00267.xml\"\n",
    "members = BeautifulSoup(get(link).text,'xml').find('members')\n",
    "votes = pd.DataFrame(columns = ['first_name','last_name','party','state','vote_cast'])\n",
    "for i,m in enumerate(members.find_all('member')):\n",
    "    votes.loc[i] = [m.first_name.text, m.last_name.text, m.party.text, m.state.text, m.vote_cast.text]\n",
    "display(votes.head())\n",
    "#votes.to_csv('roll_call_votes.csv')"
   ]
  },
  {
   "cell_type": "markdown",
   "metadata": {},
   "source": [
    "## Exploring"
   ]
  },
  {
   "cell_type": "markdown",
   "metadata": {
    "tags": []
   },
   "source": [
    "### Basic"
   ]
  },
  {
   "cell_type": "code",
   "execution_count": 2,
   "metadata": {},
   "outputs": [
    {
     "data": {
      "text/html": [
       "<div>\n",
       "<style scoped>\n",
       "    .dataframe tbody tr th:only-of-type {\n",
       "        vertical-align: middle;\n",
       "    }\n",
       "\n",
       "    .dataframe tbody tr th {\n",
       "        vertical-align: top;\n",
       "    }\n",
       "\n",
       "    .dataframe thead th {\n",
       "        text-align: right;\n",
       "    }\n",
       "</style>\n",
       "<table border=\"1\" class=\"dataframe\">\n",
       "  <thead>\n",
       "    <tr style=\"text-align: right;\">\n",
       "      <th>vote_cast</th>\n",
       "      <th>Yea</th>\n",
       "      <th>Nay</th>\n",
       "      <th>Not Voting</th>\n",
       "      <th>Total</th>\n",
       "    </tr>\n",
       "  </thead>\n",
       "  <tbody>\n",
       "    <tr>\n",
       "      <th>Democrat</th>\n",
       "      <td>46</td>\n",
       "      <td>0</td>\n",
       "      <td>2</td>\n",
       "      <td>48</td>\n",
       "    </tr>\n",
       "    <tr>\n",
       "      <th>Independent</th>\n",
       "      <td>2</td>\n",
       "      <td>0</td>\n",
       "      <td>0</td>\n",
       "      <td>2</td>\n",
       "    </tr>\n",
       "    <tr>\n",
       "      <th>Republican</th>\n",
       "      <td>15</td>\n",
       "      <td>33</td>\n",
       "      <td>2</td>\n",
       "      <td>50</td>\n",
       "    </tr>\n",
       "    <tr>\n",
       "      <th>Total</th>\n",
       "      <td>63</td>\n",
       "      <td>33</td>\n",
       "      <td>4</td>\n",
       "      <td>100</td>\n",
       "    </tr>\n",
       "  </tbody>\n",
       "</table>\n",
       "</div>"
      ],
      "text/plain": [
       "vote_cast    Yea  Nay  Not Voting  Total\n",
       "Democrat      46    0           2     48\n",
       "Independent    2    0           0      2\n",
       "Republican    15   33           2     50\n",
       "Total         63   33           4    100"
      ]
     },
     "metadata": {},
     "output_type": "display_data"
    }
   ],
   "source": [
    "party_name = {'R':'Republican','D':'Democrat','I':'Independent'}\n",
    "\n",
    "summary = votes.groupby('party').vote_cast.value_counts().unstack().fillna(0).astype(int)\n",
    "summary.index = [party_name[i] for i in summary.index]\n",
    "votes_summary = summary.copy()\n",
    "\n",
    "summary.insert(0,'Yea',summary.pop('Yea'))\n",
    "summary.loc['Total'] = summary.sum()\n",
    "summary['Total'] = summary.sum(axis = 1)\n",
    "display(summary)"
   ]
  },
  {
   "cell_type": "code",
   "execution_count": 3,
   "metadata": {},
   "outputs": [
    {
     "name": "stdout",
     "output_type": "stream",
     "text": [
      "Votes ratio of Democrats' major decision to Republicans' major decision is 1.39\n"
     ]
    }
   ],
   "source": [
    "# What is the votes ratio of Democrats' major decision to Republicans' major decision ?\n",
    "maj_ratio = round(summary.loc['Democrat'][:-1].max()/summary.loc['Republican'][:-1].max(),2)\n",
    "print(f\"Votes ratio of Democrats' major decision to Republicans' major decision is {maj_ratio}\")"
   ]
  },
  {
   "cell_type": "code",
   "execution_count": 4,
   "metadata": {},
   "outputs": [
    {
     "name": "stdout",
     "output_type": "stream",
     "text": [
      "---------Normalized Summary-----------\n"
     ]
    },
    {
     "data": {
      "text/html": [
       "<div>\n",
       "<style scoped>\n",
       "    .dataframe tbody tr th:only-of-type {\n",
       "        vertical-align: middle;\n",
       "    }\n",
       "\n",
       "    .dataframe tbody tr th {\n",
       "        vertical-align: top;\n",
       "    }\n",
       "\n",
       "    .dataframe thead th {\n",
       "        text-align: right;\n",
       "    }\n",
       "</style>\n",
       "<table border=\"1\" class=\"dataframe\">\n",
       "  <thead>\n",
       "    <tr style=\"text-align: right;\">\n",
       "      <th>vote_cast</th>\n",
       "      <th>Yea</th>\n",
       "      <th>Nay</th>\n",
       "      <th>Not Voting</th>\n",
       "      <th>y_n_diff</th>\n",
       "    </tr>\n",
       "  </thead>\n",
       "  <tbody>\n",
       "    <tr>\n",
       "      <th>Democrat</th>\n",
       "      <td>95.8</td>\n",
       "      <td>0.0</td>\n",
       "      <td>4.2</td>\n",
       "      <td>95.8</td>\n",
       "    </tr>\n",
       "    <tr>\n",
       "      <th>Independent</th>\n",
       "      <td>100.0</td>\n",
       "      <td>0.0</td>\n",
       "      <td>0.0</td>\n",
       "      <td>100.0</td>\n",
       "    </tr>\n",
       "    <tr>\n",
       "      <th>Republican</th>\n",
       "      <td>30.0</td>\n",
       "      <td>66.0</td>\n",
       "      <td>4.0</td>\n",
       "      <td>36.0</td>\n",
       "    </tr>\n",
       "    <tr>\n",
       "      <th>Total</th>\n",
       "      <td>63.0</td>\n",
       "      <td>33.0</td>\n",
       "      <td>4.0</td>\n",
       "      <td>30.0</td>\n",
       "    </tr>\n",
       "  </tbody>\n",
       "</table>\n",
       "</div>"
      ],
      "text/plain": [
       "vote_cast      Yea   Nay  Not Voting  y_n_diff\n",
       "Democrat      95.8   0.0         4.2      95.8\n",
       "Independent  100.0   0.0         0.0     100.0\n",
       "Republican    30.0  66.0         4.0      36.0\n",
       "Total         63.0  33.0         4.0      30.0"
      ]
     },
     "metadata": {},
     "output_type": "display_data"
    },
    {
     "name": "stdout",
     "output_type": "stream",
     "text": [
      "The difference in percentage between yea and nay among Republicans is 36.0\n",
      "The difference in percentage between yea and nay among Democrats is 95.83\n",
      "highest absolute difference in percentage between yea and nay among the different parties is 95.83\n"
     ]
    }
   ],
   "source": [
    "# What is the highest absolute difference in percentage between yea and nay senators among the different parties?\n",
    "print(\"---------Normalized Summary-----------\")\n",
    "summary_norm = summary.iloc[:,:-1].div(summary.Total,axis = 0)*100\n",
    "summary_norm['y_n_diff'] = abs(summary_norm.Yea - summary_norm.Nay)\n",
    "display(summary_norm.round(1))\n",
    "R_diff,D_diff = summary_norm.loc['Republican'].y_n_diff, summary_norm.loc['Democrat'].y_n_diff\n",
    "print(f\"The difference in percentage between yea and nay among Republicans is {R_diff}\")\n",
    "print(f\"The difference in percentage between yea and nay among Democrats is {round(D_diff,2)}\")\n",
    "print(f\"highest absolute difference in percentage between yea and nay among the different parties is {round(max(R_diff,D_diff),2)}\")"
   ]
  },
  {
   "cell_type": "markdown",
   "metadata": {
    "tags": []
   },
   "source": [
    "### State wise"
   ]
  },
  {
   "cell_type": "code",
   "execution_count": 5,
   "metadata": {},
   "outputs": [
    {
     "name": "stdout",
     "output_type": "stream",
     "text": [
      "22 states have both Republican senators\n",
      "21 states have both Democrat senators\n",
      "5 states have both Republican and Democrat senators\n",
      "26 states voted all Yay\n",
      "12 states voted all Nay\n",
      "4 states had at least 1 non-voting senator\n"
     ]
    }
   ],
   "source": [
    "# How many states have both Republican senators?                   ## RR\n",
    "# How many states have both Democrat senators?                     ## DD\n",
    "# How many states have both Republican and Democrat senators?      ## RD\n",
    "# How many states voted all Yay?                                   ## YY\n",
    "# How many states voted all Nay?                                   ## NN\n",
    "# How many states had at least 1 non-voting senator?               ## NV\n",
    "\n",
    "RR,DD,RD,YY,NN,NV = 0,0,0,0,0,0\n",
    "for state,group in votes[['state','party','vote_cast']].groupby('state'):\n",
    "    party,vote = set(group.party),set(group.vote_cast)\n",
    "    \n",
    "    ## ---------State wise senetor party counts----------\n",
    "    if party == {'R'}:\n",
    "        RR += 1\n",
    "    elif party =={'D'}:\n",
    "        DD += 1\n",
    "    elif party == {'R','D'}:\n",
    "        RD += 1\n",
    "        \n",
    "    ## ---------State wise vote counts--------\n",
    "    if vote == {'Yea'}:\n",
    "        YY +=1\n",
    "    elif vote == {'Nay'}:\n",
    "        NN += 1\n",
    "    elif 'Not Voting' in vote:\n",
    "        NV += 1\n",
    "        \n",
    "print(f\"{RR} states have both Republican senators\")\n",
    "print(f\"{DD} states have both Democrat senators\")\n",
    "print(f\"{RD} states have both Republican and Democrat senators\")\n",
    "print(f\"{YY} states voted all Yay\")\n",
    "print(f\"{NN} states voted all Nay\")\n",
    "print(f\"{NV} states had at least 1 non-voting senator\")"
   ]
  },
  {
   "cell_type": "markdown",
   "metadata": {},
   "source": [
    "### Funny"
   ]
  },
  {
   "cell_type": "code",
   "execution_count": 6,
   "metadata": {},
   "outputs": [
    {
     "data": {
      "text/html": [
       "<div>\n",
       "<style scoped>\n",
       "    .dataframe tbody tr th:only-of-type {\n",
       "        vertical-align: middle;\n",
       "    }\n",
       "\n",
       "    .dataframe tbody tr th {\n",
       "        vertical-align: top;\n",
       "    }\n",
       "\n",
       "    .dataframe thead th {\n",
       "        text-align: right;\n",
       "    }\n",
       "</style>\n",
       "<table border=\"1\" class=\"dataframe\">\n",
       "  <thead>\n",
       "    <tr style=\"text-align: right;\">\n",
       "      <th></th>\n",
       "      <th>name</th>\n",
       "      <th>vote_cast</th>\n",
       "    </tr>\n",
       "  </thead>\n",
       "  <tbody>\n",
       "    <tr>\n",
       "      <th>0</th>\n",
       "      <td>Mark Warner</td>\n",
       "      <td>Yea</td>\n",
       "    </tr>\n",
       "    <tr>\n",
       "      <th>1</th>\n",
       "      <td>Raphael Warnock</td>\n",
       "      <td>Yea</td>\n",
       "    </tr>\n",
       "    <tr>\n",
       "      <th>2</th>\n",
       "      <td>Elizabeth Warren</td>\n",
       "      <td>Yea</td>\n",
       "    </tr>\n",
       "    <tr>\n",
       "      <th>3</th>\n",
       "      <td>Sheldon Whitehouse</td>\n",
       "      <td>Yea</td>\n",
       "    </tr>\n",
       "    <tr>\n",
       "      <th>4</th>\n",
       "      <td>Roger Wicker</td>\n",
       "      <td>Nay</td>\n",
       "    </tr>\n",
       "    <tr>\n",
       "      <th>5</th>\n",
       "      <td>Ron Wyden</td>\n",
       "      <td>Yea</td>\n",
       "    </tr>\n",
       "  </tbody>\n",
       "</table>\n",
       "</div>"
      ],
      "text/plain": [
       "                 name vote_cast\n",
       "0         Mark Warner       Yea\n",
       "1     Raphael Warnock       Yea\n",
       "2    Elizabeth Warren       Yea\n",
       "3  Sheldon Whitehouse       Yea\n",
       "4        Roger Wicker       Nay\n",
       "5           Ron Wyden       Yea"
      ]
     },
     "metadata": {},
     "output_type": "display_data"
    },
    {
     "data": {
      "text/html": [
       "<div>\n",
       "<style scoped>\n",
       "    .dataframe tbody tr th:only-of-type {\n",
       "        vertical-align: middle;\n",
       "    }\n",
       "\n",
       "    .dataframe tbody tr th {\n",
       "        vertical-align: top;\n",
       "    }\n",
       "\n",
       "    .dataframe thead th {\n",
       "        text-align: right;\n",
       "    }\n",
       "</style>\n",
       "<table border=\"1\" class=\"dataframe\">\n",
       "  <thead>\n",
       "    <tr style=\"text-align: right;\">\n",
       "      <th></th>\n",
       "      <th>name</th>\n",
       "      <th>vote_cast</th>\n",
       "    </tr>\n",
       "  </thead>\n",
       "  <tbody>\n",
       "    <tr>\n",
       "      <th>0</th>\n",
       "      <td>Tammy Baldwin</td>\n",
       "      <td>Yea</td>\n",
       "    </tr>\n",
       "    <tr>\n",
       "      <th>1</th>\n",
       "      <td>Michael Bennet</td>\n",
       "      <td>Yea</td>\n",
       "    </tr>\n",
       "    <tr>\n",
       "      <th>2</th>\n",
       "      <td>Richard Blumenthal</td>\n",
       "      <td>Yea</td>\n",
       "    </tr>\n",
       "    <tr>\n",
       "      <th>3</th>\n",
       "      <td>Sherrod  Brown</td>\n",
       "      <td>Yea</td>\n",
       "    </tr>\n",
       "    <tr>\n",
       "      <th>4</th>\n",
       "      <td>Richard Burr</td>\n",
       "      <td>Yea</td>\n",
       "    </tr>\n",
       "    <tr>\n",
       "      <th>5</th>\n",
       "      <td>Ben Cardin</td>\n",
       "      <td>Yea</td>\n",
       "    </tr>\n",
       "    <tr>\n",
       "      <th>6</th>\n",
       "      <td>Bob Casey</td>\n",
       "      <td>Yea</td>\n",
       "    </tr>\n",
       "    <tr>\n",
       "      <th>7</th>\n",
       "      <td>Ben Lujan</td>\n",
       "      <td>Yea</td>\n",
       "    </tr>\n",
       "    <tr>\n",
       "      <th>8</th>\n",
       "      <td>Bernard Sanders</td>\n",
       "      <td>Yea</td>\n",
       "    </tr>\n",
       "    <tr>\n",
       "      <th>9</th>\n",
       "      <td>Brian Schatz</td>\n",
       "      <td>Yea</td>\n",
       "    </tr>\n",
       "  </tbody>\n",
       "</table>\n",
       "</div>"
      ],
      "text/plain": [
       "                 name vote_cast\n",
       "0       Tammy Baldwin       Yea\n",
       "1      Michael Bennet       Yea\n",
       "2  Richard Blumenthal       Yea\n",
       "3      Sherrod  Brown       Yea\n",
       "4        Richard Burr       Yea\n",
       "5          Ben Cardin       Yea\n",
       "6           Bob Casey       Yea\n",
       "7           Ben Lujan       Yea\n",
       "8     Bernard Sanders       Yea\n",
       "9        Brian Schatz       Yea"
      ]
     },
     "metadata": {},
     "output_type": "display_data"
    }
   ],
   "source": [
    "# How many Senators have their names starting with W?\n",
    "names = votes.copy()\n",
    "names.insert(0,'name',names.first_name + \" \" + names.last_name)\n",
    "names = names.drop(['first_name','last_name','party','state'],axis = 1)\n",
    "display(names.loc[names.name.str.contains('W')].reset_index(drop = True))\n",
    "\n",
    "# What's the total number of Yea votes from all senators whose name starts with \"B\"?\n",
    "display(names.loc[(names.name.str.contains('B')) & (names.vote_cast == 'Yea')].reset_index(drop = True))"
   ]
  },
  {
   "cell_type": "markdown",
   "metadata": {},
   "source": [
    "## Plots"
   ]
  },
  {
   "cell_type": "markdown",
   "metadata": {},
   "source": [
    "### Heat map of party wise votes"
   ]
  },
  {
   "cell_type": "code",
   "execution_count": 7,
   "metadata": {},
   "outputs": [],
   "source": [
    "import seaborn as sns\n",
    "sns.set(font_scale=1.4)\n",
    "votes_summary.columns.name = ''\n",
    "votes_summary = votes_summary.reindex(['Democrat','Republican','Independent'])\n",
    "votes_summary = votes_summary[['Yea','Nay','Not Voting']]"
   ]
  },
  {
   "cell_type": "code",
   "execution_count": 8,
   "metadata": {},
   "outputs": [
    {
     "data": {
      "text/plain": [
       "<AxesSubplot:>"
      ]
     },
     "execution_count": 8,
     "metadata": {},
     "output_type": "execute_result"
    },
    {
     "data": {
      "image/png": "[encoded data removed]",
      "text/plain": [
       "<Figure size 432x288 with 2 Axes>"
      ]
     },
     "metadata": {},
     "output_type": "display_data"
    }
   ],
   "source": [
    "sns.heatmap(votes_summary,cmap = 'PRGn',annot = True,linewidth=2,linecolor = 'black',\n",
    "            annot_kws={'fontsize':18})"
   ]
  },
  {
   "cell_type": "markdown",
   "metadata": {},
   "source": [
    "### Barchart of party wise vote (stacked)"
   ]
  },
  {
   "cell_type": "code",
   "execution_count": 9,
   "metadata": {},
   "outputs": [
    {
     "data": {
      "text/plain": [
       "<AxesSubplot:ylabel='Number of Votes'>"
      ]
     },
     "execution_count": 9,
     "metadata": {},
     "output_type": "execute_result"
    },
    {
     "data": {
      "image/png": "[encoded data removed]",
      "text/plain": [
       "<Figure size 576x576 with 1 Axes>"
      ]
     },
     "metadata": {},
     "output_type": "display_data"
    }
   ],
   "source": [
    "votes_summary.plot(kind = 'bar',stacked = True,color = ['g','r','b'],\n",
    "                   figsize = (8,8),ylabel = 'Number of Votes')"
   ]
  },
  {
   "cell_type": "markdown",
   "metadata": {},
   "source": [
    "### Pie chart of Republican votes"
   ]
  },
  {
   "cell_type": "code",
   "execution_count": 10,
   "metadata": {},
   "outputs": [
    {
     "data": {
      "text/plain": [
       "<AxesSubplot:ylabel='Republican'>"
      ]
     },
     "execution_count": 10,
     "metadata": {},
     "output_type": "execute_result"
    },
    {
     "data": {
      "image/png": "[encoded data removed]",
      "text/plain": [
       "<Figure size 720x720 with 1 Axes>"
      ]
     },
     "metadata": {},
     "output_type": "display_data"
    }
   ],
   "source": [
    "votes_summary.T.plot.pie(y = 'Republican',figsize = (10,10),startangle = 90,\n",
    "                         autopct = \"%1.0f%%\",colors = ['g','r','b'])"
   ]
  },
  {
   "cell_type": "markdown",
   "metadata": {},
   "source": [
    "### State dominance of party (pie chart)"
   ]
  },
  {
   "cell_type": "code",
   "execution_count": 12,
   "metadata": {},
   "outputs": [
    {
     "data": {
      "image/png": "[encoded data removed]",
      "text/plain": [
       "<Figure size 648x648 with 1 Axes>"
      ]
     },
     "metadata": {},
     "output_type": "display_data"
    }
   ],
   "source": [
    "from matplotlib import pyplot as plt\n",
    "states_sum = votes.groupby('party').state.value_counts().unstack().fillna(0).astype(int).T\n",
    "dom = ['Democratic','Republic','Equal']\n",
    "states_sum[dom[0]],states_sum[dom[1]]  = states_sum.D > states_sum.R, states_sum.R > states_sum.D\n",
    "states_sum[dom[2]] = states_sum.D == states_sum.R\n",
    "plt.pie(states_sum[dom].sum(),labels = dom,startangle = 90,shadow = True,\n",
    "        autopct = '%1.0f%%',colors = ['b','r','grey'])\n",
    "plt.legend(loc = 'lower right')\n",
    "fig = plt.gcf()\n",
    "fig.set_size_inches(9,9)\n",
    "plt.show()"
   ]
  }
 ],
 "metadata": {
  "colab": {
   "authorship_tag": "ABX9TyM/HOPRv/mVUfFMPbo9MA7F",
   "include_colab_link": true,
   "name": "voteSummary.ipynb",
   "provenance": []
  },
  "kernelspec": {
   "display_name": "Python 3 (ipykernel)",
   "language": "python",
   "name": "python3"
  },
  "language_info": {
   "codemirror_mode": {
    "name": "ipython",
    "version": 3
   },
   "file_extension": ".py",
   "mimetype": "text/x-python",
   "name": "python",
   "nbconvert_exporter": "python",
   "pygments_lexer": "ipython3",
   "version": "3.9.12"
  }
 },
 "nbformat": 4,
 "nbformat_minor": 4
}
