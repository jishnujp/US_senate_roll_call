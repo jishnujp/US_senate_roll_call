{
 "cells": [
  {
   "cell_type": "markdown",
   "metadata": {
    "colab_type": "text",
    "id": "view-in-github"
   },
   "source": [
    "<a href=\"https://colab.research.google.com/github/jishnujp/US_senate_roll_call/blob/main/voteSummary.ipynb\" target=\"_parent\"><img src=\"https://colab.research.google.com/assets/colab-badge.svg\" alt=\"Open In Colab\"/></a>"
   ]
  },
  {
   "cell_type": "markdown",
   "metadata": {
    "id": "C-qxIy4RJCl0"
   },
   "source": [
    "# Vote Summary"
   ]
  },
  {
   "cell_type": "markdown",
   "metadata": {
    "id": "FbSWuok2J-0a"
   },
   "source": [
    "## Roll Call Vote 117th Congress - 1st Session\n",
    "### **Subject**\n",
    "On the Nomination (Confirmation: Tiffany P. Cunningham, of Illinois, to be United States Circuit Judge for the Federal Circuit.)\n",
    "\n",
    "### Votes\n",
    "- YEAs - 63\n",
    "- NAYs - 33\n",
    "- Not Voting - 4\n",
    "\n",
    "link - https://www.senate.gov/legislative/LIS/roll_call_votes/vote1171/vote_117_1_00267.htm\n",
    "\n"
   ]
  },
  {
   "cell_type": "markdown",
   "metadata": {
    "id": "ejpMpNMIKBew"
   },
   "source": [
    "## Scraping"
   ]
  },
  {
   "cell_type": "code",
   "execution_count": 12,
   "metadata": {
    "id": "avAePnVAJF6F"
   },
   "outputs": [
    {
     "data": {
      "text/html": [
       "<div>\n",
       "<style scoped>\n",
       "    .dataframe tbody tr th:only-of-type {\n",
       "        vertical-align: middle;\n",
       "    }\n",
       "\n",
       "    .dataframe tbody tr th {\n",
       "        vertical-align: top;\n",
       "    }\n",
       "\n",
       "    .dataframe thead th {\n",
       "        text-align: right;\n",
       "    }\n",
       "</style>\n",
       "<table border=\"1\" class=\"dataframe\">\n",
       "  <thead>\n",
       "    <tr style=\"text-align: right;\">\n",
       "      <th></th>\n",
       "      <th>first_name</th>\n",
       "      <th>last_name</th>\n",
       "      <th>party</th>\n",
       "      <th>state</th>\n",
       "      <th>vote_cast</th>\n",
       "    </tr>\n",
       "  </thead>\n",
       "  <tbody>\n",
       "    <tr>\n",
       "      <th>0</th>\n",
       "      <td>Tammy</td>\n",
       "      <td>Baldwin</td>\n",
       "      <td>D</td>\n",
       "      <td>WI</td>\n",
       "      <td>Yea</td>\n",
       "    </tr>\n",
       "    <tr>\n",
       "      <th>1</th>\n",
       "      <td>John</td>\n",
       "      <td>Barrasso</td>\n",
       "      <td>R</td>\n",
       "      <td>WY</td>\n",
       "      <td>Nay</td>\n",
       "    </tr>\n",
       "    <tr>\n",
       "      <th>2</th>\n",
       "      <td>Michael</td>\n",
       "      <td>Bennet</td>\n",
       "      <td>D</td>\n",
       "      <td>CO</td>\n",
       "      <td>Yea</td>\n",
       "    </tr>\n",
       "    <tr>\n",
       "      <th>3</th>\n",
       "      <td>Marsha</td>\n",
       "      <td>Blackburn</td>\n",
       "      <td>R</td>\n",
       "      <td>TN</td>\n",
       "      <td>Nay</td>\n",
       "    </tr>\n",
       "    <tr>\n",
       "      <th>4</th>\n",
       "      <td>Richard</td>\n",
       "      <td>Blumenthal</td>\n",
       "      <td>D</td>\n",
       "      <td>CT</td>\n",
       "      <td>Yea</td>\n",
       "    </tr>\n",
       "  </tbody>\n",
       "</table>\n",
       "</div>"
      ],
      "text/plain": [
       "  first_name   last_name party state vote_cast\n",
       "0      Tammy     Baldwin     D    WI       Yea\n",
       "1       John    Barrasso     R    WY       Nay\n",
       "2    Michael      Bennet     D    CO       Yea\n",
       "3     Marsha   Blackburn     R    TN       Nay\n",
       "4    Richard  Blumenthal     D    CT       Yea"
      ]
     },
     "metadata": {},
     "output_type": "display_data"
    }
   ],
   "source": [
    "## We have the xml link, which make scraping easier.\n",
    "import pandas as pd\n",
    "from bs4 import BeautifulSoup\n",
    "from requests import get\n",
    "\n",
    "link = \"https://www.senate.gov/legislative/LIS/roll_call_votes/vote1171/vote_117_1_00267.xml\"\n",
    "members = BeautifulSoup(get(link).text,'xml').find('members')\n",
    "votes = pd.DataFrame(columns = ['first_name','last_name','party','state','vote_cast'])\n",
    "for i,m in enumerate(members.find_all('member')):\n",
    "    votes.loc[i] = [m.first_name.text, m.last_name.text, m.party.text, m.state.text, m.vote_cast.text]\n",
    "display(votes.head())\n",
    "votes.to_csv('roll_call_votes.csv')"
   ]
  }
 ],
 "metadata": {
  "colab": {
   "authorship_tag": "ABX9TyM/HOPRv/mVUfFMPbo9MA7F",
   "include_colab_link": true,
   "name": "voteSummary.ipynb",
   "provenance": []
  },
  "kernelspec": {
   "display_name": "Python 3 (ipykernel)",
   "language": "python",
   "name": "python3"
  },
  "language_info": {
   "codemirror_mode": {
    "name": "ipython",
    "version": 3
   },
   "file_extension": ".py",
   "mimetype": "text/x-python",
   "name": "python",
   "nbconvert_exporter": "python",
   "pygments_lexer": "ipython3",
   "version": "3.9.12"
  }
 },
 "nbformat": 4,
 "nbformat_minor": 4
}
