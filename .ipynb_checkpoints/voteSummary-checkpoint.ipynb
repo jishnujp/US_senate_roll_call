{
  "nbformat": 4,
  "nbformat_minor": 0,
  "metadata": {
    "colab": {
      "name": "voteSummary.ipynb",
      "provenance": [],
      "authorship_tag": "ABX9TyM/HOPRv/mVUfFMPbo9MA7F",
      "include_colab_link": true
    },
    "kernelspec": {
      "name": "python3",
      "display_name": "Python 3"
    },
    "language_info": {
      "name": "python"
    }
  },
  "cells": [
    {
      "cell_type": "markdown",
      "metadata": {
        "id": "view-in-github",
        "colab_type": "text"
      },
      "source": [
        "<a href=\"https://colab.research.google.com/github/jishnujp/US_senate_roll_call/blob/main/voteSummary.ipynb\" target=\"_parent\"><img src=\"https://colab.research.google.com/assets/colab-badge.svg\" alt=\"Open In Colab\"/></a>"
      ]
    },
    {
      "cell_type": "markdown",
      "source": [
        "# Vote Summary"
      ],
      "metadata": {
        "id": "C-qxIy4RJCl0"
      }
    },
    {
      "cell_type": "markdown",
      "source": [
        "## Roll Call Vote 117th Congress - 1st Session\n",
        "### **Subject**\n",
        "On the Nomination (Confirmation: Tiffany P. Cunningham, of Illinois, to be United States Circuit Judge for the Federal Circuit.)\n",
        "\n",
        "### Votes\n",
        "- YEAs - 63\n",
        "- NAYs - 33\n",
        "- Not Voting - 4\n",
        "\n",
        "link - https://www.senate.gov/legislative/LIS/roll_call_votes/vote1171/vote_117_1_00267.htm\n",
        "\n"
      ],
      "metadata": {
        "id": "FbSWuok2J-0a"
      }
    },
    {
      "cell_type": "markdown",
      "source": [
        "## Scraping"
      ],
      "metadata": {
        "id": "ejpMpNMIKBew"
      }
    },
    {
      "cell_type": "code",
      "source": [
        ""
      ],
      "metadata": {
        "id": "avAePnVAJF6F"
      },
      "execution_count": null,
      "outputs": []
    }
  ]
}